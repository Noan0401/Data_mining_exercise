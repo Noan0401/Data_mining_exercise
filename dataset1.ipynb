{
 "cells": [
  {
   "cell_type": "code",
   "execution_count": 47,
   "metadata": {},
   "outputs": [],
   "source": [
    "import matplotlib.pyplot as plt\n",
    "import numpy as np\n",
    "import pandas as pd\n",
    "\n",
    "#真の関数として y = sin(pi * x * 0.8) の結果を返す関数を定義せよ。関数名は true_function とする。\n",
    "def true_function(x):\n",
    "    y = np.sin(np.pi * x * 0.8)\n",
    "    return y"
   ]
  },
  {
   "cell_type": "code",
   "execution_count": 25,
   "metadata": {},
   "outputs": [
    {
     "data": {
      "text/plain": [
       "0.0"
      ]
     },
     "execution_count": 25,
     "metadata": {},
     "output_type": "execute_result"
    }
   ],
   "source": [
    "#doctestにより、x=0のときy=0であることをテストせよ。(あとでします....)\n",
    "true_function(0)"
   ]
  },
  {
   "cell_type": "code",
   "execution_count": 46,
   "metadata": {
    "scrolled": true
   },
   "outputs": [
    {
     "data": {
      "image/png": "[encoded data removed]",
      "text/plain": [
       "<Figure size 432x288 with 1 Axes>"
      ]
     },
     "metadata": {
      "needs_background": "light"
     },
     "output_type": "display_data"
    }
   ],
   "source": [
    "\n",
    "def Plot_1_1():\n",
    "    x = np.linspace(-1, 1)\n",
    "    plt.plot(x, np.sin(np.pi * x * 0.8), color='b', ls='-', label='true_function')\n",
    "    plt.legend()\n",
    "    plt.xlabel('x')\n",
    "    plt.ylabel('y')\n",
    "    plt.title('Graphs')\n",
    "    plt.show()\n",
    "    \n",
    "Plot_1_1()"
   ]
  },
  {
   "cell_type": "markdown",
   "metadata": {},
   "source": [
    "##演習1.2：観測点と真値の準備\n",
    "\n",
    "課題内容\n",
    "*観測点（x座標）を乱数により設定しよう。ここでは、定義域-1 <= x <= 1の範囲内でシード値（デフォルト値0）を指定した上で、ランダムにn個（デフォルト値20）の観測点を用意せよ。\n",
    "\n",
    "*次に、各観測点に対応する真の値を、真の関数により求めよ。\n",
    "\n",
    "*上記2手順により、観測点とそれに対応した真値が揃ったはずだ。このサンプル集合を pandas.DataFrame型（20行2列）として設定せよ。列の順番は-問わないが、各々「観測点」「真値」として列名を設定せよ。\n",
    "\n",
    "*演習1.1の線グラフ上に、サンプル集合をプロットせよ。プロットは見やすいようにサイズ調整すること。グラフは ex1.2.png として保存すること。"
   ]
  },
  {
   "cell_type": "code",
   "execution_count": 27,
   "metadata": {},
   "outputs": [
    {
     "name": "stdout",
     "output_type": "stream",
     "text": [
      "[-0.36803586 -0.98217528 -0.39917983 -0.08849448 -0.37624932 -0.60920957\n",
      " -0.60422351 -0.56277174 -0.77952082 -0.48771471  0.24867651  0.11136693\n",
      "  0.88680067 -0.86249136  0.16573619 -0.66392575  0.92795913 -0.7178473\n",
      "  0.25966729  0.14593565]\n"
     ]
    }
   ],
   "source": [
    "random_array = np.random.uniform(-1, 1, 20)\n",
    "print(random_array)"
   ]
  },
  {
   "cell_type": "code",
   "execution_count": 28,
   "metadata": {},
   "outputs": [
    {
     "name": "stdout",
     "output_type": "stream",
     "text": [
      "[-0.7986057240974285, -0.6234260905009696, -0.8432216304965406, -0.2205817692599967, -0.8108585792019888, -0.9992126272736427, -0.9986370019968438, -0.9877949470828076, -0.9255339040247282, -0.9410634193479905, 0.5850909782887046, 0.27625532708529177, 0.7912310382474734, -0.8270927807953549, 0.4045991631198292, -0.9952183547067249, 0.7238574588460769, -0.9728970450455425, 0.6072661537437329, 0.3586080132092443]\n",
      "[[-0.3680358633523686, -0.7986057240974285], [-0.9821752798845249, -0.6234260905009696], [-0.3991798331175056, -0.8432216304965406], [-0.08849448187226017, -0.2205817692599967], [-0.3762493190228262, -0.8108585792019888], [-0.6092095749037638, -0.9992126272736427], [-0.6042235143288492, -0.9986370019968438], [-0.5627717369594794, -0.9877949470828076], [-0.7795208240727278, -0.9255339040247282], [-0.4877147051921036, -0.9410634193479905], [0.24867651020963955, 0.5850909782887046], [0.11136692660908643, 0.27625532708529177], [0.8868006722396335, 0.7912310382474734], [-0.8624913591148584, -0.8270927807953549], [0.16573618806086898, 0.4045991631198292], [-0.6639257529404683, -0.9952183547067249], [0.9279591341373881, 0.7238574588460769], [-0.7178472957482236, -0.9728970450455425], [0.2596672882364923, 0.6072661537437329], [0.1459356523301205, 0.3586080132092443]]\n"
     ]
    }
   ],
   "source": [
    "true_value = []\n",
    "df_array = []\n",
    "\n",
    "for i in random_array:\n",
    "    true_value.append(true_function(i))\n",
    "    df_array.append([i,true_function(i)])\n",
    "    \n",
    "print(true_value)\n",
    "print(df_array)"
   ]
  },
  {
   "cell_type": "code",
   "execution_count": 48,
   "metadata": {},
   "outputs": [],
   "source": [
    "def Make_rendum_Observation_point():\n",
    "    random_array = np.random.uniform(-1, 1, 20)\n",
    "    true_value = []\n",
    "    df_array = []\n",
    "\n",
    "    for i in random_array:\n",
    "        true_value.append(true_function(i))\n",
    "        df_array.append([i,true_function(i)])\n",
    "    return df_array"
   ]
  },
  {
   "cell_type": "code",
   "execution_count": 54,
   "metadata": {},
   "outputs": [
    {
     "name": "stdout",
     "output_type": "stream",
     "text": [
      "    Observation point  true value\n",
      "0           -0.368036   -0.798606\n",
      "1           -0.982175   -0.623426\n",
      "2           -0.399180   -0.843222\n",
      "3           -0.088494   -0.220582\n",
      "4           -0.376249   -0.810859\n",
      "5           -0.609210   -0.999213\n",
      "6           -0.604224   -0.998637\n",
      "7           -0.562772   -0.987795\n",
      "8           -0.779521   -0.925534\n",
      "9           -0.487715   -0.941063\n",
      "10           0.248677    0.585091\n",
      "11           0.111367    0.276255\n",
      "12           0.886801    0.791231\n",
      "13          -0.862491   -0.827093\n",
      "14           0.165736    0.404599\n",
      "15          -0.663926   -0.995218\n",
      "16           0.927959    0.723857\n",
      "17          -0.717847   -0.972897\n",
      "18           0.259667    0.607266\n",
      "19           0.145936    0.358608\n",
      "<class 'pandas.core.frame.DataFrame'>\n",
      "0    -0.368036\n",
      "1    -0.982175\n",
      "2    -0.399180\n",
      "3    -0.088494\n",
      "4    -0.376249\n",
      "5    -0.609210\n",
      "6    -0.604224\n",
      "7    -0.562772\n",
      "8    -0.779521\n",
      "9    -0.487715\n",
      "10    0.248677\n",
      "11    0.111367\n",
      "12    0.886801\n",
      "13   -0.862491\n",
      "14    0.165736\n",
      "15   -0.663926\n",
      "16    0.927959\n",
      "17   -0.717847\n",
      "18    0.259667\n",
      "19    0.145936\n",
      "Name: Observation point, dtype: float64\n"
     ]
    }
   ],
   "source": [
    "import pandas as pd\n",
    "\n",
    "df = pd.DataFrame(df_array, columns= [\"Observation point\", \"true value\"])\n",
    "\n",
    "print(df)\n",
    "print(type(df))\n",
    "\n",
    "test_x = df[\"Observation point\"]\n",
    "print(test_x)"
   ]
  },
  {
   "cell_type": "code",
   "execution_count": 60,
   "metadata": {},
   "outputs": [
    {
     "data": {
      "text/html": [
       "<div>\n",
       "<style scoped>\n",
       "    .dataframe tbody tr th:only-of-type {\n",
       "        vertical-align: middle;\n",
       "    }\n",
       "\n",
       "    .dataframe tbody tr th {\n",
       "        vertical-align: top;\n",
       "    }\n",
       "\n",
       "    .dataframe thead th {\n",
       "        text-align: right;\n",
       "    }\n",
       "</style>\n",
       "<table border=\"1\" class=\"dataframe\">\n",
       "  <thead>\n",
       "    <tr style=\"text-align: right;\">\n",
       "      <th></th>\n",
       "      <th>Observation point</th>\n",
       "      <th>true value</th>\n",
       "    </tr>\n",
       "  </thead>\n",
       "  <tbody>\n",
       "    <tr>\n",
       "      <th>0</th>\n",
       "      <td>-0.368036</td>\n",
       "      <td>-0.798606</td>\n",
       "    </tr>\n",
       "    <tr>\n",
       "      <th>1</th>\n",
       "      <td>-0.982175</td>\n",
       "      <td>-0.623426</td>\n",
       "    </tr>\n",
       "    <tr>\n",
       "      <th>2</th>\n",
       "      <td>-0.399180</td>\n",
       "      <td>-0.843222</td>\n",
       "    </tr>\n",
       "    <tr>\n",
       "      <th>3</th>\n",
       "      <td>-0.088494</td>\n",
       "      <td>-0.220582</td>\n",
       "    </tr>\n",
       "    <tr>\n",
       "      <th>4</th>\n",
       "      <td>-0.376249</td>\n",
       "      <td>-0.810859</td>\n",
       "    </tr>\n",
       "    <tr>\n",
       "      <th>5</th>\n",
       "      <td>-0.609210</td>\n",
       "      <td>-0.999213</td>\n",
       "    </tr>\n",
       "    <tr>\n",
       "      <th>6</th>\n",
       "      <td>-0.604224</td>\n",
       "      <td>-0.998637</td>\n",
       "    </tr>\n",
       "    <tr>\n",
       "      <th>7</th>\n",
       "      <td>-0.562772</td>\n",
       "      <td>-0.987795</td>\n",
       "    </tr>\n",
       "    <tr>\n",
       "      <th>8</th>\n",
       "      <td>-0.779521</td>\n",
       "      <td>-0.925534</td>\n",
       "    </tr>\n",
       "    <tr>\n",
       "      <th>9</th>\n",
       "      <td>-0.487715</td>\n",
       "      <td>-0.941063</td>\n",
       "    </tr>\n",
       "    <tr>\n",
       "      <th>10</th>\n",
       "      <td>0.248677</td>\n",
       "      <td>0.585091</td>\n",
       "    </tr>\n",
       "    <tr>\n",
       "      <th>11</th>\n",
       "      <td>0.111367</td>\n",
       "      <td>0.276255</td>\n",
       "    </tr>\n",
       "    <tr>\n",
       "      <th>12</th>\n",
       "      <td>0.886801</td>\n",
       "      <td>0.791231</td>\n",
       "    </tr>\n",
       "    <tr>\n",
       "      <th>13</th>\n",
       "      <td>-0.862491</td>\n",
       "      <td>-0.827093</td>\n",
       "    </tr>\n",
       "    <tr>\n",
       "      <th>14</th>\n",
       "      <td>0.165736</td>\n",
       "      <td>0.404599</td>\n",
       "    </tr>\n",
       "    <tr>\n",
       "      <th>15</th>\n",
       "      <td>-0.663926</td>\n",
       "      <td>-0.995218</td>\n",
       "    </tr>\n",
       "    <tr>\n",
       "      <th>16</th>\n",
       "      <td>0.927959</td>\n",
       "      <td>0.723857</td>\n",
       "    </tr>\n",
       "    <tr>\n",
       "      <th>17</th>\n",
       "      <td>-0.717847</td>\n",
       "      <td>-0.972897</td>\n",
       "    </tr>\n",
       "    <tr>\n",
       "      <th>18</th>\n",
       "      <td>0.259667</td>\n",
       "      <td>0.607266</td>\n",
       "    </tr>\n",
       "    <tr>\n",
       "      <th>19</th>\n",
       "      <td>0.145936</td>\n",
       "      <td>0.358608</td>\n",
       "    </tr>\n",
       "  </tbody>\n",
       "</table>\n",
       "</div>"
      ],
      "text/plain": [
       "    Observation point  true value\n",
       "0           -0.368036   -0.798606\n",
       "1           -0.982175   -0.623426\n",
       "2           -0.399180   -0.843222\n",
       "3           -0.088494   -0.220582\n",
       "4           -0.376249   -0.810859\n",
       "5           -0.609210   -0.999213\n",
       "6           -0.604224   -0.998637\n",
       "7           -0.562772   -0.987795\n",
       "8           -0.779521   -0.925534\n",
       "9           -0.487715   -0.941063\n",
       "10           0.248677    0.585091\n",
       "11           0.111367    0.276255\n",
       "12           0.886801    0.791231\n",
       "13          -0.862491   -0.827093\n",
       "14           0.165736    0.404599\n",
       "15          -0.663926   -0.995218\n",
       "16           0.927959    0.723857\n",
       "17          -0.717847   -0.972897\n",
       "18           0.259667    0.607266\n",
       "19           0.145936    0.358608"
      ]
     },
     "execution_count": 60,
     "metadata": {},
     "output_type": "execute_result"
    }
   ],
   "source": [
    "\n",
    "def Make_DataFrame(array):\n",
    "    df = pd.DataFrame(df_array, columns= [\"Observation point\", \"true value\"])\n",
    "    return df\n",
    "\n",
    "df_test = Make_DataFrame(Make_rendum_Observation_point())\n",
    "df_test"
   ]
  },
  {
   "cell_type": "code",
   "execution_count": 56,
   "metadata": {
    "scrolled": true
   },
   "outputs": [
    {
     "data": {
      "image/png": "[encoded data removed]",
      "text/plain": [
       "<Figure size 432x288 with 1 Axes>"
      ]
     },
     "metadata": {
      "needs_background": "light"
     },
     "output_type": "display_data"
    },
    {
     "data": {
      "image/png": "[encoded data removed]",
      "text/plain": [
       "<Figure size 432x288 with 1 Axes>"
      ]
     },
     "metadata": {
      "needs_background": "light"
     },
     "output_type": "display_data"
    }
   ],
   "source": [
    "X = random_array\n",
    "Y = true_value\n",
    "\n",
    "\n",
    "def Plot_1_2(X,Y):\n",
    "    x = np.linspace(-1, 1)\n",
    "    plt.plot(x, np.sin(np.pi * x * 0.8), color='b', ls='-', label='true_function')\n",
    "    plt.legend()\n",
    "    plt.xlabel('x')\n",
    "    plt.ylabel('y')\n",
    "    plt.title('Graphs')\n",
    "    plt.scatter(X, Y, label='data set')\n",
    "    plt.savefig(\"ex1.2.png\")\n",
    "    plt.show()\n",
    "\n",
    "Plot_1_2(X,Y)\n",
    "Plot_1_2(test_x,Y)"
   ]
  },
  {
   "cell_type": "markdown",
   "metadata": {},
   "source": [
    "演習1.3：ノイズを付与した観測値の準備\n",
    "背景\n",
    "真の関数は本来は知ることができない。用意できるデータセットには、reporting bias, selection biasなど様々なバイアスが混入したサンプルが含まれる。このような「バイアスが混入したサンプル」を作るため、真の関数にノイズを付与してみよう。\n",
    "課題内容\n",
    "サンプルに対応する真の値は true_function により得られる。その値に付与するノイズを正規分布（ガウス分布）により用意しよう。20個のサンプルに対して、平均値を0.0、分散を2.0としたときの正規分布に従うノイズ（ホワイトノイズ）を付与せよ。付与した値を、演習1.2で用意したDataFrameにおける新たな列として挿入せよ。列名を「観測値」とする。\n",
    "演習1.2のグラフ内に、観測値をプロットせよ。グラフは ex1.3.png として保存すること。"
   ]
  },
  {
   "cell_type": "code",
   "execution_count": 37,
   "metadata": {},
   "outputs": [],
   "source": [
    "from scipy.stats import norm\n",
    "\n",
    "White_noise= norm.pdf(true_value,0.0,2.0)"
   ]
  },
  {
   "cell_type": "code",
   "execution_count": 38,
   "metadata": {},
   "outputs": [
    {
     "name": "stdout",
     "output_type": "stream",
     "text": [
      "    Observation point  true value  White_noise\n",
      "0           -0.368036   -0.798606     0.184186\n",
      "1           -0.982175   -0.623426     0.190012\n",
      "2           -0.399180   -0.843222     0.182508\n",
      "3           -0.088494   -0.220582     0.198262\n",
      "4           -0.376249   -0.810859     0.183733\n",
      "5           -0.609210   -0.999213     0.176067\n",
      "6           -0.604224   -0.998637     0.176093\n",
      "7           -0.562772   -0.987795     0.176567\n",
      "8           -0.779521   -0.925534     0.179216\n",
      "9           -0.487715   -0.941063     0.178568\n",
      "10           0.248677    0.585091     0.191116\n",
      "11           0.111367    0.276255     0.197577\n",
      "12           0.886801    0.791231     0.184457\n",
      "13          -0.862491   -0.827093     0.183123\n",
      "14           0.165736    0.404599     0.195431\n",
      "15          -0.663926   -0.995218     0.176243\n",
      "16           0.927959    0.723857     0.186825\n",
      "17          -0.717847   -0.972897     0.177213\n",
      "18           0.259667    0.607266     0.190485\n",
      "19           0.145936    0.358608     0.196290\n"
     ]
    }
   ],
   "source": [
    "df[\"White_noise\"] = White_noise\n",
    "print(df)"
   ]
  },
  {
   "cell_type": "code",
   "execution_count": 62,
   "metadata": {},
   "outputs": [
    {
     "data": {
      "text/html": [
       "<div>\n",
       "<style scoped>\n",
       "    .dataframe tbody tr th:only-of-type {\n",
       "        vertical-align: middle;\n",
       "    }\n",
       "\n",
       "    .dataframe tbody tr th {\n",
       "        vertical-align: top;\n",
       "    }\n",
       "\n",
       "    .dataframe thead th {\n",
       "        text-align: right;\n",
       "    }\n",
       "</style>\n",
       "<table border=\"1\" class=\"dataframe\">\n",
       "  <thead>\n",
       "    <tr style=\"text-align: right;\">\n",
       "      <th></th>\n",
       "      <th>Observation point</th>\n",
       "      <th>true value</th>\n",
       "      <th>White_noise</th>\n",
       "    </tr>\n",
       "  </thead>\n",
       "  <tbody>\n",
       "    <tr>\n",
       "      <th>0</th>\n",
       "      <td>-0.368036</td>\n",
       "      <td>-0.798606</td>\n",
       "      <td>0.184186</td>\n",
       "    </tr>\n",
       "    <tr>\n",
       "      <th>1</th>\n",
       "      <td>-0.982175</td>\n",
       "      <td>-0.623426</td>\n",
       "      <td>0.190012</td>\n",
       "    </tr>\n",
       "    <tr>\n",
       "      <th>2</th>\n",
       "      <td>-0.399180</td>\n",
       "      <td>-0.843222</td>\n",
       "      <td>0.182508</td>\n",
       "    </tr>\n",
       "    <tr>\n",
       "      <th>3</th>\n",
       "      <td>-0.088494</td>\n",
       "      <td>-0.220582</td>\n",
       "      <td>0.198262</td>\n",
       "    </tr>\n",
       "    <tr>\n",
       "      <th>4</th>\n",
       "      <td>-0.376249</td>\n",
       "      <td>-0.810859</td>\n",
       "      <td>0.183733</td>\n",
       "    </tr>\n",
       "    <tr>\n",
       "      <th>5</th>\n",
       "      <td>-0.609210</td>\n",
       "      <td>-0.999213</td>\n",
       "      <td>0.176067</td>\n",
       "    </tr>\n",
       "    <tr>\n",
       "      <th>6</th>\n",
       "      <td>-0.604224</td>\n",
       "      <td>-0.998637</td>\n",
       "      <td>0.176093</td>\n",
       "    </tr>\n",
       "    <tr>\n",
       "      <th>7</th>\n",
       "      <td>-0.562772</td>\n",
       "      <td>-0.987795</td>\n",
       "      <td>0.176567</td>\n",
       "    </tr>\n",
       "    <tr>\n",
       "      <th>8</th>\n",
       "      <td>-0.779521</td>\n",
       "      <td>-0.925534</td>\n",
       "      <td>0.179216</td>\n",
       "    </tr>\n",
       "    <tr>\n",
       "      <th>9</th>\n",
       "      <td>-0.487715</td>\n",
       "      <td>-0.941063</td>\n",
       "      <td>0.178568</td>\n",
       "    </tr>\n",
       "    <tr>\n",
       "      <th>10</th>\n",
       "      <td>0.248677</td>\n",
       "      <td>0.585091</td>\n",
       "      <td>0.191116</td>\n",
       "    </tr>\n",
       "    <tr>\n",
       "      <th>11</th>\n",
       "      <td>0.111367</td>\n",
       "      <td>0.276255</td>\n",
       "      <td>0.197577</td>\n",
       "    </tr>\n",
       "    <tr>\n",
       "      <th>12</th>\n",
       "      <td>0.886801</td>\n",
       "      <td>0.791231</td>\n",
       "      <td>0.184457</td>\n",
       "    </tr>\n",
       "    <tr>\n",
       "      <th>13</th>\n",
       "      <td>-0.862491</td>\n",
       "      <td>-0.827093</td>\n",
       "      <td>0.183123</td>\n",
       "    </tr>\n",
       "    <tr>\n",
       "      <th>14</th>\n",
       "      <td>0.165736</td>\n",
       "      <td>0.404599</td>\n",
       "      <td>0.195431</td>\n",
       "    </tr>\n",
       "    <tr>\n",
       "      <th>15</th>\n",
       "      <td>-0.663926</td>\n",
       "      <td>-0.995218</td>\n",
       "      <td>0.176243</td>\n",
       "    </tr>\n",
       "    <tr>\n",
       "      <th>16</th>\n",
       "      <td>0.927959</td>\n",
       "      <td>0.723857</td>\n",
       "      <td>0.186825</td>\n",
       "    </tr>\n",
       "    <tr>\n",
       "      <th>17</th>\n",
       "      <td>-0.717847</td>\n",
       "      <td>-0.972897</td>\n",
       "      <td>0.177213</td>\n",
       "    </tr>\n",
       "    <tr>\n",
       "      <th>18</th>\n",
       "      <td>0.259667</td>\n",
       "      <td>0.607266</td>\n",
       "      <td>0.190485</td>\n",
       "    </tr>\n",
       "    <tr>\n",
       "      <th>19</th>\n",
       "      <td>0.145936</td>\n",
       "      <td>0.358608</td>\n",
       "      <td>0.196290</td>\n",
       "    </tr>\n",
       "  </tbody>\n",
       "</table>\n",
       "</div>"
      ],
      "text/plain": [
       "    Observation point  true value  White_noise\n",
       "0           -0.368036   -0.798606     0.184186\n",
       "1           -0.982175   -0.623426     0.190012\n",
       "2           -0.399180   -0.843222     0.182508\n",
       "3           -0.088494   -0.220582     0.198262\n",
       "4           -0.376249   -0.810859     0.183733\n",
       "5           -0.609210   -0.999213     0.176067\n",
       "6           -0.604224   -0.998637     0.176093\n",
       "7           -0.562772   -0.987795     0.176567\n",
       "8           -0.779521   -0.925534     0.179216\n",
       "9           -0.487715   -0.941063     0.178568\n",
       "10           0.248677    0.585091     0.191116\n",
       "11           0.111367    0.276255     0.197577\n",
       "12           0.886801    0.791231     0.184457\n",
       "13          -0.862491   -0.827093     0.183123\n",
       "14           0.165736    0.404599     0.195431\n",
       "15          -0.663926   -0.995218     0.176243\n",
       "16           0.927959    0.723857     0.186825\n",
       "17          -0.717847   -0.972897     0.177213\n",
       "18           0.259667    0.607266     0.190485\n",
       "19           0.145936    0.358608     0.196290"
      ]
     },
     "execution_count": 62,
     "metadata": {},
     "output_type": "execute_result"
    }
   ],
   "source": [
    "\n",
    "def Make_white_noise(true_value, df):\n",
    "    White_noise= norm.pdf(true_value,0.0,2.0)\n",
    "    df[\"White_noise\"] = White_noise\n",
    "    return df\n",
    "\n",
    "new_df = Make_white_noise(true_value,df_test)\n",
    "new_df\n"
   ]
  },
  {
   "cell_type": "code",
   "execution_count": 65,
   "metadata": {},
   "outputs": [
    {
     "data": {
      "image/png": "[encoded data removed]",
      "text/plain": [
       "<Figure size 432x288 with 1 Axes>"
      ]
     },
     "metadata": {
      "needs_background": "light"
     },
     "output_type": "display_data"
    }
   ],
   "source": [
    " \n",
    "def Plot_1_3(X,Y,df):\n",
    "    x = np.linspace(-1, 1)\n",
    "    plt.plot(x, np.sin(np.pi * x * 0.8), color='b', ls='-', label='true_function')\n",
    "    plt.legend()\n",
    "    plt.xlabel('x')\n",
    "    plt.ylabel('y')\n",
    "    plt.title('Graphs')\n",
    "    plt.scatter(X, Y, label='data set')\n",
    "    plt.plot(df[\"true value\"],df[\"White_noise\"],color='r')\n",
    "    plt.savefig(\"ex1.3.png\")\n",
    "    plt.show()\n",
    "    \n",
    "Plot_1_3(X,Y,new_df)"
   ]
  },
  {
   "cell_type": "markdown",
   "metadata": {},
   "source": [
    "演習1.4：データセットのファイル出力\n",
    "課題内容\n",
    "DataFrameに保存しているデータをTSV形式でファイル出力せよ。"
   ]
  },
  {
   "cell_type": "code",
   "execution_count": 66,
   "metadata": {},
   "outputs": [],
   "source": [
    "def Output_tsv(df):\n",
    "    df.to_csv('output.tsv', sep='\\t', index=True)"
   ]
  },
  {
   "cell_type": "markdown",
   "metadata": {},
   "source": [
    "演習1.5：データセットのファイル読み込み\n",
    "課題内容\n",
    "TSVファイルで保存されているデータを、DataFrame型で読み込め。"
   ]
  },
  {
   "cell_type": "code",
   "execution_count": 67,
   "metadata": {},
   "outputs": [],
   "source": [
    "def Input_tsv(df):\n",
    "    df_2 = pd.read_csv('output.tsv', sep='\\t', index_col=0)\n",
    "    return df_2"
   ]
  },
  {
   "cell_type": "markdown",
   "metadata": {},
   "source": [
    "演習1.6：演習1.1〜演習1.5をモジュールとして整理\n",
    "課題内容\n",
    "演習1.1〜演習1.5をそれぞれ関数として定義し、他のファイルからimportで利用できるように整理せよ。ファイル名を dataset1.py とする。"
   ]
  },
  {
   "cell_type": "code",
   "execution_count": null,
   "metadata": {},
   "outputs": [],
   "source": []
  },
  {
   "cell_type": "code",
   "execution_count": null,
   "metadata": {},
   "outputs": [],
   "source": []
  }
 ],
 "metadata": {
  "kernelspec": {
   "display_name": "Python 3",
   "language": "python",
   "name": "python3"
  },
  "language_info": {
   "codemirror_mode": {
    "name": "ipython",
    "version": 3
   },
   "file_extension": ".py",
   "mimetype": "text/x-python",
   "name": "python",
   "nbconvert_exporter": "python",
   "pygments_lexer": "ipython3",
   "version": "3.7.1"
  }
 },
 "nbformat": 4,
 "nbformat_minor": 2
}
